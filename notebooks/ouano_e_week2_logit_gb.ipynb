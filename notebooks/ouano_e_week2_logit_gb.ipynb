{
 "cells": [
  {
   "cell_type": "code",
   "execution_count": 1,
   "id": "607a4aa3",
   "metadata": {},
   "outputs": [],
   "source": [
    "import pandas as pd\n",
    "import numpy as np\n",
    "import matplotlib.pyplot as plt\n",
    "import seaborn as sns\n",
    "from xgboost import XGBClassifier\n",
    "import warnings\n",
    "warnings.filterwarnings('ignore')\n",
    "from sklearn.metrics import confusion_matrix, ConfusionMatrixDisplay\n"
   ]
  },
  {
   "cell_type": "markdown",
   "id": "62895389",
   "metadata": {},
   "source": [
    "<br> In this notebook:\n",
    "\n",
    "<p> 1) <b> Continue with Logistic Regression </b>\n",
    "<p>  -undersampling rookies > 5 years\n",
    "<p>  -oversampling rookies < 5 years\n",
    "<p>  -removing correlated features\n",
    "<p>  -dealing with negative values\n",
    "\n",
    "<br> 2)<b> Gradient boosting </b>\n",
    "\n",
    "<br> 3)<b> XGB model </b>\n",
    "\n"
   ]
  },
  {
   "cell_type": "code",
   "execution_count": 2,
   "id": "5ccfd992",
   "metadata": {},
   "outputs": [],
   "source": [
    "#get the training dataset and drop the id\n",
    "df=pd.read_csv('../data/raw/train.csv')\n",
    "df_analysis=df.drop(columns=[\"Id_old\",\"Id\"])"
   ]
  },
  {
   "cell_type": "code",
   "execution_count": 3,
   "id": "744580b9",
   "metadata": {},
   "outputs": [],
   "source": [
    "#Pop into a new variable the target column\n",
    "target = df_analysis.pop('TARGET_5Yrs')"
   ]
  },
  {
   "cell_type": "markdown",
   "id": "50ca9865",
   "metadata": {},
   "source": [
    "<b> 1) Logistic Regression - continued </b>"
   ]
  },
  {
   "cell_type": "code",
   "execution_count": 4,
   "id": "bedb4d87",
   "metadata": {},
   "outputs": [],
   "source": [
    "#scale the variables\n",
    "from sklearn.preprocessing import StandardScaler\n",
    "scaler = StandardScaler()\n",
    "df_scaled= scaler.fit_transform(df_analysis)"
   ]
  },
  {
   "cell_type": "code",
   "execution_count": 5,
   "id": "4a027a45",
   "metadata": {},
   "outputs": [],
   "source": [
    "from sklearn.model_selection import train_test_split\n",
    "X_train, X_valid, y_train, y_valid = train_test_split (df_scaled, target, test_size=0.2, random_state=8)"
   ]
  },
  {
   "cell_type": "markdown",
   "id": "7cbad8b6",
   "metadata": {},
   "source": [
    "The graph below shows that the training dataset is dominated by rookies who make it pass 5 years "
   ]
  },
  {
   "cell_type": "code",
   "execution_count": 6,
   "id": "84f19cf0",
   "metadata": {},
   "outputs": [
    {
     "data": {
      "text/plain": [
       "<AxesSubplot:xlabel='TARGET_5Yrs', ylabel='count'>"
      ]
     },
     "execution_count": 6,
     "metadata": {},
     "output_type": "execute_result"
    },
    {
     "data": {
      "image/png": "[encoded data removed]",
      "text/plain": [
       "<Figure size 432x288 with 1 Axes>"
      ]
     },
     "metadata": {
      "needs_background": "light"
     },
     "output_type": "display_data"
    }
   ],
   "source": [
    "#plot the training dataset\n",
    "#y_train.head()\n",
    "sns.countplot(x=\"TARGET_5Yrs\",data=pd.DataFrame(y_train))"
   ]
  },
  {
   "cell_type": "markdown",
   "id": "6b92aea0",
   "metadata": {},
   "source": [
    "We will balance the data by undersampling from rookies who make it past 5 years"
   ]
  },
  {
   "cell_type": "code",
   "execution_count": 7,
   "id": "0cc9857a",
   "metadata": {},
   "outputs": [],
   "source": [
    "from sklearn.utils import resample\n",
    "imbalanced_X = X_train\n",
    "imbalanced_Y = y_train"
   ]
  },
  {
   "cell_type": "code",
   "execution_count": 8,
   "id": "ac19678c",
   "metadata": {},
   "outputs": [],
   "source": [
    "#Sampling the number of y=0 from subset where y=1\n",
    "undersampled_X, undersampled_Y = resample(imbalanced_X[imbalanced_Y==1], imbalanced_Y[imbalanced_Y==1],replace=True,\n",
    "                n_samples=imbalanced_X[imbalanced_Y==0].shape[0],\n",
    "                random_state=123)"
   ]
  },
  {
   "cell_type": "code",
   "execution_count": 9,
   "id": "4defdaa4",
   "metadata": {},
   "outputs": [],
   "source": [
    "#Create new balanced training set - combine with Y=0\n",
    "balanced_X_1 = np.vstack((imbalanced_X[imbalanced_Y==0],undersampled_X))\n",
    "balanced_Y_1 = np.hstack((imbalanced_Y[imbalanced_Y==0],undersampled_Y))"
   ]
  },
  {
   "cell_type": "code",
   "execution_count": 10,
   "id": "d76dca50",
   "metadata": {},
   "outputs": [
    {
     "data": {
      "text/plain": [
       "<AxesSubplot:xlabel='TARGET_5Yrs', ylabel='count'>"
      ]
     },
     "execution_count": 10,
     "metadata": {},
     "output_type": "execute_result"
    },
    {
     "data": {
      "image/png": "[encoded data removed]",
      "text/plain": [
       "<Figure size 432x288 with 1 Axes>"
      ]
     },
     "metadata": {
      "needs_background": "light"
     },
     "output_type": "display_data"
    }
   ],
   "source": [
    "#plot the new training set\n",
    "sns.countplot(x=\"TARGET_5Yrs\",data=pd.DataFrame(balanced_Y_1).rename(columns={0:\"TARGET_5Yrs\"}))"
   ]
  },
  {
   "cell_type": "markdown",
   "id": "76dfcd5e",
   "metadata": {},
   "source": [
    "There are now ~1000 records in both categories in the dataset"
   ]
  },
  {
   "cell_type": "code",
   "execution_count": 11,
   "id": "84df87c9",
   "metadata": {},
   "outputs": [
    {
     "data": {
      "text/plain": [
       "array([0, 1, 1, ..., 1, 0, 1], dtype=int64)"
      ]
     },
     "execution_count": 11,
     "metadata": {},
     "output_type": "execute_result"
    }
   ],
   "source": [
    "#Model new balanced dataset\n",
    "from sklearn.linear_model import LogisticRegression\n",
    "model_undersample=LogisticRegression(penalty = 'none')\n",
    "model_undersample.fit(balanced_X_1, balanced_Y_1)\n",
    "model_undersample.predict(X_valid)"
   ]
  },
  {
   "cell_type": "code",
   "execution_count": 12,
   "id": "dfa44862",
   "metadata": {},
   "outputs": [
    {
     "data": {
      "image/png": "[encoded data removed]",
      "text/plain": [
       "<Figure size 432x288 with 1 Axes>"
      ]
     },
     "metadata": {
      "needs_background": "light"
     },
     "output_type": "display_data"
    }
   ],
   "source": [
    "#get the AOC metric and plot the curve\n",
    "from sklearn import metrics\n",
    "\n",
    "y_pred_proba_u = model_undersample.predict_proba(X_valid)[::,1]\n",
    "fpr_u, tpr_u, _ = metrics.roc_curve(y_valid,  y_pred_proba_u)\n",
    "auc_undersample = metrics.roc_auc_score(y_valid, y_pred_proba_u)\n",
    "plt.plot(fpr_u,tpr_u,label=\"Undersampled model, auc=\"+str(auc_undersample))\n",
    "plt.legend(loc=4)\n",
    "plt.show()"
   ]
  },
  {
   "cell_type": "code",
   "execution_count": 13,
   "id": "2c9ad74e",
   "metadata": {},
   "outputs": [
    {
     "data": {
      "text/plain": [
       "<sklearn.metrics._plot.confusion_matrix.ConfusionMatrixDisplay at 0x2ba82355af0>"
      ]
     },
     "execution_count": 13,
     "metadata": {},
     "output_type": "execute_result"
    },
    {
     "data": {
      "image/png": "[encoded data removed]",
      "text/plain": [
       "<Figure size 432x288 with 2 Axes>"
      ]
     },
     "metadata": {
      "needs_background": "light"
     },
     "output_type": "display_data"
    }
   ],
   "source": [
    "y_undersample_predict =model_undersample.predict(X_valid)\n",
    "cm_under= confusion_matrix(y_valid, y_undersample_predict, labels=model_undersample.classes_)\n",
    "\n",
    "disp_under = ConfusionMatrixDisplay(confusion_matrix=cm_under, display_labels=model_undersample.classes_)\n",
    "disp_under.plot()"
   ]
  },
  {
   "cell_type": "markdown",
   "id": "0626f44a",
   "metadata": {},
   "source": [
    "Undersampling also resulted in AOC ~.70, just like the imbalanced dataset\n",
    "\n",
    "It is now correctly predicting Y=0 65% the time and Y=1 64% of the time\n",
    "\n",
    "Now going to try oversampling from Y=0"
   ]
  },
  {
   "cell_type": "code",
   "execution_count": 14,
   "id": "2dec47c6",
   "metadata": {},
   "outputs": [],
   "source": [
    "#Oversampling the number of y=0 so that it matches the number of Y=1\n",
    "oversampled_X, oversampled_Y = resample(imbalanced_X[imbalanced_Y==0], imbalanced_Y[imbalanced_Y==0],replace=True,\n",
    "                n_samples=imbalanced_X[imbalanced_Y==1].shape[0],\n",
    "                random_state=123)"
   ]
  },
  {
   "cell_type": "code",
   "execution_count": 15,
   "id": "83b48694",
   "metadata": {},
   "outputs": [],
   "source": [
    "#Create new balanced training set\n",
    "balanced_X_2 = np.vstack((imbalanced_X[imbalanced_Y==1],oversampled_X))\n",
    "balanced_Y_2 = np.hstack((imbalanced_Y[imbalanced_Y==1],oversampled_Y))"
   ]
  },
  {
   "cell_type": "code",
   "execution_count": 16,
   "id": "57f0b793",
   "metadata": {},
   "outputs": [
    {
     "data": {
      "text/plain": [
       "<AxesSubplot:xlabel='TARGET_5Yrs', ylabel='count'>"
      ]
     },
     "execution_count": 16,
     "metadata": {},
     "output_type": "execute_result"
    },
    {
     "data": {
      "image/png": "[encoded data removed]",
      "text/plain": [
       "<Figure size 432x288 with 1 Axes>"
      ]
     },
     "metadata": {
      "needs_background": "light"
     },
     "output_type": "display_data"
    }
   ],
   "source": [
    "#plot the new training set\n",
    "sns.countplot(x=\"TARGET_5Yrs\",data=pd.DataFrame(balanced_Y_2).rename(columns={0:\"TARGET_5Yrs\"}))"
   ]
  },
  {
   "cell_type": "markdown",
   "id": "954ed172",
   "metadata": {},
   "source": [
    "The number of Y=0 and Y=1 are now both ~5000"
   ]
  },
  {
   "cell_type": "code",
   "execution_count": 17,
   "id": "0406554d",
   "metadata": {},
   "outputs": [
    {
     "data": {
      "text/plain": [
       "array([0, 0, 1, ..., 1, 0, 1], dtype=int64)"
      ]
     },
     "execution_count": 17,
     "metadata": {},
     "output_type": "execute_result"
    }
   ],
   "source": [
    "#Model new balanced dataset\n",
    "\n",
    "from sklearn.linear_model import LogisticRegression\n",
    "model_oversample=LogisticRegression(penalty = 'none')\n",
    "model_oversample.fit(balanced_X_2, balanced_Y_2)\n",
    "model_oversample.predict(X_valid)"
   ]
  },
  {
   "cell_type": "code",
   "execution_count": 18,
   "id": "5cbc22f6",
   "metadata": {},
   "outputs": [
    {
     "data": {
      "image/png": "[encoded data removed]",
      "text/plain": [
       "<Figure size 432x288 with 1 Axes>"
      ]
     },
     "metadata": {
      "needs_background": "light"
     },
     "output_type": "display_data"
    }
   ],
   "source": [
    "#get the AOC metric and plot the curve\n",
    "from sklearn import metrics\n",
    "\n",
    "y_pred_proba_o = model_oversample.predict_proba(X_valid)[::,1]\n",
    "fpr_o, tpr_o, _ = metrics.roc_curve(y_valid,  y_pred_proba_o)\n",
    "auc_oversample = metrics.roc_auc_score(y_valid, y_pred_proba_o)\n",
    "plt.plot(fpr_o,tpr_o,label=\"Oversampled model, auc=\"+str(auc_oversample))\n",
    "plt.legend(loc=4)\n",
    "plt.show()"
   ]
  },
  {
   "cell_type": "code",
   "execution_count": 19,
   "id": "483b460d",
   "metadata": {},
   "outputs": [
    {
     "data": {
      "text/plain": [
       "<sklearn.metrics._plot.confusion_matrix.ConfusionMatrixDisplay at 0x2ba847d0070>"
      ]
     },
     "execution_count": 19,
     "metadata": {},
     "output_type": "execute_result"
    },
    {
     "data": {
      "image/png": "[encoded data removed]",
      "text/plain": [
       "<Figure size 432x288 with 2 Axes>"
      ]
     },
     "metadata": {
      "needs_background": "light"
     },
     "output_type": "display_data"
    }
   ],
   "source": [
    "y_oversample_predict =model_oversample.predict(X_valid)\n",
    "cm_over = confusion_matrix(y_valid, y_oversample_predict, labels=model_oversample.classes_)\n",
    "\n",
    "disp_over= ConfusionMatrixDisplay(confusion_matrix=cm_over, display_labels=model_oversample.classes_)\n",
    "disp_over.plot()"
   ]
  },
  {
   "cell_type": "markdown",
   "id": "6d5783ea",
   "metadata": {},
   "source": [
    "Just like undersampling, oversampling also produced AUC of ~.70\n",
    "\n",
    "It is now correctly predicting Y=0 66% of the time and Y=1 62% of the time.\n",
    "\n",
    "So oversampling and undersampling does not appear to make a difference on the AUC metric\n",
    "\n",
    "But they do improve the prediction on Y=0\n",
    "\n",
    "Undersampling appeared to perform better than oversampling, as it correctly predicted Y=0 and Y=1 at around the same rate"
   ]
  },
  {
   "cell_type": "markdown",
   "id": "8a8e7a19",
   "metadata": {},
   "source": [
    "<i> Accounting for highly correlated features </i>\n",
    "\n",
    "<p>From the results of Assignment 1, it appeared that features that were highly correlated had weak coeffiecient values.\n",
    "They were:\n",
    "    \n",
    "- FGM and FGA (highly correlated with FG%)\n",
    "- 3P Made and 3PA (highly correlated with 3P%)\n",
    "- FTM and FTA (highly correlated with FT%)\n",
    "- REB (highly correlated with OREB and DREB)"
   ]
  },
  {
   "cell_type": "code",
   "execution_count": 20,
   "id": "2189fc8e",
   "metadata": {},
   "outputs": [],
   "source": [
    "#Create new dataset to remove highly correlated features\n",
    "df_analysis_reduce = df_analysis.drop(columns=[\"FGM\",\"FGA\",\"3P Made\",\"3PA\",\"FTM\",\"FTA\",\"REB\"])\n",
    "df_scaled_reduce = scaler.fit_transform(df_analysis_reduce)"
   ]
  },
  {
   "cell_type": "code",
   "execution_count": 21,
   "id": "493893f3",
   "metadata": {},
   "outputs": [],
   "source": [
    "X_train_reduce, X_valid_reduce, y_train_reduce, y_valid_reduce = train_test_split (df_scaled_reduce, target, test_size=0.2, random_state=8)\n",
    "\n",
    "#We are going to undersample\n",
    "imbalanced_X_reduce = X_train_reduce\n",
    "imbalanced_Y_reduce = y_train_reduce\n",
    "\n",
    "#Sampling the number of y=0 from subset where y=1\n",
    "undersampled_X_reduce, undersampled_Y_reduce = resample(imbalanced_X_reduce[imbalanced_Y_reduce==1], imbalanced_Y_reduce[imbalanced_Y_reduce==1],replace=True,\n",
    "                n_samples=imbalanced_X_reduce[imbalanced_Y_reduce==0].shape[0],\n",
    "                random_state=123)\n",
    "\n",
    "#Create new balanced training set - combine with Y=0\n",
    "balanced_X_reduce = np.vstack((imbalanced_X_reduce[imbalanced_Y_reduce==0],undersampled_X_reduce))\n",
    "balanced_Y_reduce = np.hstack((imbalanced_Y_reduce[imbalanced_Y_reduce==0],undersampled_Y_reduce))"
   ]
  },
  {
   "cell_type": "code",
   "execution_count": 22,
   "id": "0dd3c32e",
   "metadata": {},
   "outputs": [
    {
     "data": {
      "text/plain": [
       "array([0, 0, 1, ..., 1, 0, 1], dtype=int64)"
      ]
     },
     "execution_count": 22,
     "metadata": {},
     "output_type": "execute_result"
    }
   ],
   "source": [
    "model_new_reduce=LogisticRegression(penalty = 'none')\n",
    "model_new_reduce.fit(balanced_X_reduce, balanced_Y_reduce)\n",
    "model_new_reduce.predict(X_valid_reduce)"
   ]
  },
  {
   "cell_type": "code",
   "execution_count": 23,
   "id": "b8c95bed",
   "metadata": {},
   "outputs": [
    {
     "data": {
      "image/png": "[encoded data removed]",
      "text/plain": [
       "<Figure size 432x288 with 1 Axes>"
      ]
     },
     "metadata": {
      "needs_background": "light"
     },
     "output_type": "display_data"
    }
   ],
   "source": [
    "y_pred_proba_reduce = model_new_reduce.predict_proba(X_valid_reduce)[::,1]\n",
    "fpr_r, tpr_r, _ = metrics.roc_curve(y_valid_reduce,  y_pred_proba_reduce)\n",
    "auc_reduce = metrics.roc_auc_score(y_valid_reduce, y_pred_proba_reduce)\n",
    "plt.plot(fpr_r,tpr_r,label=\"Reduced_model, auc=\"+str(auc_reduce))\n",
    "plt.legend(loc=4)\n",
    "plt.show()"
   ]
  },
  {
   "cell_type": "code",
   "execution_count": 24,
   "id": "7051d327",
   "metadata": {},
   "outputs": [
    {
     "data": {
      "text/plain": [
       "<sklearn.metrics._plot.confusion_matrix.ConfusionMatrixDisplay at 0x2ba8499f700>"
      ]
     },
     "execution_count": 24,
     "metadata": {},
     "output_type": "execute_result"
    },
    {
     "data": {
      "image/png": "[encoded data removed]",
      "text/plain": [
       "<Figure size 432x288 with 2 Axes>"
      ]
     },
     "metadata": {
      "needs_background": "light"
     },
     "output_type": "display_data"
    }
   ],
   "source": [
    "y_reduce_predict =model_new_reduce.predict(X_valid_reduce)\n",
    "cm_r = confusion_matrix(y_valid_reduce, y_reduce_predict, labels=model_new_reduce.classes_)\n",
    "\n",
    "dis_r= ConfusionMatrixDisplay(confusion_matrix=cm_r, display_labels=model_new_reduce.classes_)\n",
    "dis_r.plot()"
   ]
  },
  {
   "cell_type": "code",
   "execution_count": 25,
   "id": "5c7f359b",
   "metadata": {},
   "outputs": [
    {
     "data": {
      "text/plain": [
       "<AxesSubplot:>"
      ]
     },
     "execution_count": 25,
     "metadata": {},
     "output_type": "execute_result"
    },
    {
     "data": {
      "image/png": "[encoded data removed]",
      "text/plain": [
       "<Figure size 432x288 with 1 Axes>"
      ]
     },
     "metadata": {
      "needs_background": "light"
     },
     "output_type": "display_data"
    }
   ],
   "source": [
    "#Grab the coeefficients\n",
    "np.round(model_new_reduce.coef_,1)\n",
    "model_new_coef = pd.DataFrame(np.round(model_new_reduce.coef_,1), columns=df_analysis_reduce.columns)\n",
    "sns.barplot(data=model_new_coef)"
   ]
  },
  {
   "cell_type": "markdown",
   "id": "6544ffcc",
   "metadata": {},
   "source": [
    "Removing the highly correlated features slightly improved AUC metric performance, but AUC metric still around ~0.70-0.71"
   ]
  },
  {
   "cell_type": "markdown",
   "id": "645bef79",
   "metadata": {},
   "source": [
    "<i> Dealing with negative values </i>\n",
    "\n",
    "There are negative values in some of the features like 3PA, BLK, and FT%\n",
    "These are clearly mislabeled data points as we would expect positive count values for these statistics.\n",
    "\n",
    "We will replace the negative values with the median for the affected features"
   ]
  },
  {
   "cell_type": "code",
   "execution_count": 29,
   "id": "048482ac",
   "metadata": {},
   "outputs": [],
   "source": [
    "df_neg_removed = df_analysis\n",
    "median_values = df_analysis.median()\n",
    "df_analysis = df_analysis.mask(df_analysis < 0, median_values, axis=1)\n",
    "df_analysis.describe()\n",
    "\n",
    "#split into training and validation set\n",
    "X_train_negrm, X_valid_negrm, y_train_negrm, y_valid_negrm = train_test_split (df_neg_removed, target, test_size=0.2, random_state=8)\n",
    "\n"
   ]
  },
  {
   "cell_type": "code",
   "execution_count": 30,
   "id": "aa6d1a07",
   "metadata": {},
   "outputs": [
    {
     "data": {
      "image/png": "[encoded data removed]",
      "text/plain": [
       "<Figure size 432x288 with 1 Axes>"
      ]
     },
     "metadata": {
      "needs_background": "light"
     },
     "output_type": "display_data"
    }
   ],
   "source": [
    "\n",
    "#We are going to undersample\n",
    "imbalanced_X_negrem = X_train_negrm\n",
    "imbalanced_Y_negrem = y_train_negrm\n",
    "\n",
    "#Sampling the number of y=0 from subset where y=1\n",
    "undersampled_X_negrem, undersampled_Y_negrem = resample(imbalanced_X_negrem[imbalanced_Y_negrem==1], imbalanced_Y_negrem[imbalanced_Y_negrem==1],replace=True,\n",
    "                n_samples=imbalanced_X_negrem[imbalanced_Y_negrem==0].shape[0],\n",
    "                random_state=123)\n",
    "\n",
    "#Create new balanced training set - combine with Y=0\n",
    "balanced_X_negrem = np.vstack((imbalanced_X_negrem[imbalanced_Y_negrem==0],undersampled_X_negrem))\n",
    "balanced_Y_negrem = np.hstack((imbalanced_Y_negrem[imbalanced_Y_negrem==0],undersampled_Y_negrem))\n",
    "\n",
    "balanced_X_negrem = scaler.fit_transform(balanced_X_negrem)\n",
    "X_valid_negrm = scaler.fit_transform(X_valid_negrm)\n",
    "\n",
    "model_neg_rem=LogisticRegression(penalty = 'none')\n",
    "\n",
    "model_neg_rem.fit(balanced_X_negrem, balanced_Y_negrem)\n",
    "y_pred_proba_negrm = model_neg_rem.predict_proba(X_valid_negrm)[::,1]\n",
    "fpr_n, tpr_n, _ = metrics.roc_curve(y_valid_negrm,  y_pred_proba_negrm)\n",
    "auc_neg_rem = metrics.roc_auc_score(y_valid_negrm, y_pred_proba_negrm)\n",
    "plt.plot(fpr_n,tpr_n,label=\"Negative values removed, auc=\"+str(auc_neg_rem))\n",
    "plt.legend(loc=4)\n",
    "plt.show()"
   ]
  },
  {
   "cell_type": "code",
   "execution_count": 31,
   "id": "41da0912",
   "metadata": {},
   "outputs": [
    {
     "data": {
      "text/plain": [
       "<sklearn.metrics._plot.confusion_matrix.ConfusionMatrixDisplay at 0x2ba85deed30>"
      ]
     },
     "execution_count": 31,
     "metadata": {},
     "output_type": "execute_result"
    },
    {
     "data": {
      "image/png": "[encoded data removed]",
      "text/plain": [
       "<Figure size 432x288 with 2 Axes>"
      ]
     },
     "metadata": {
      "needs_background": "light"
     },
     "output_type": "display_data"
    }
   ],
   "source": [
    "y_negrem_predict =model_neg_rem.predict(X_valid_negrm)\n",
    "cm_negrem= confusion_matrix(y_valid, y_negrem_predict, labels=model_neg_rem.classes_)\n",
    "\n",
    "disp_negrem = ConfusionMatrixDisplay(confusion_matrix=cm_negrem, display_labels=model_neg_rem.classes_)\n",
    "disp_negrem.plot()"
   ]
  },
  {
   "cell_type": "markdown",
   "id": "5d5632ae",
   "metadata": {},
   "source": [
    "Removing negative values little impact on AUC metric and reduced the accuracy of predicting rookie lasting more than 5 years to 53%"
   ]
  },
  {
   "cell_type": "markdown",
   "id": "6825170d",
   "metadata": {},
   "source": [
    "2. <b> Gradient Boosting </b>\n",
    "\n",
    "We are now goint to move on to a gradient boost model"
   ]
  },
  {
   "cell_type": "code",
   "execution_count": 33,
   "id": "a370b4bf",
   "metadata": {},
   "outputs": [],
   "source": [
    "#import from scikit learn\n",
    "from sklearn.ensemble import GradientBoostingClassifier\n",
    "\n",
    "#Train on undersampled balanced dataset with all features\n",
    "gb_model = GradientBoostingClassifier(learning_rate=0.01).fit(balanced_X_1, balanced_Y_1)"
   ]
  },
  {
   "cell_type": "code",
   "execution_count": 34,
   "id": "fee226f8",
   "metadata": {},
   "outputs": [
    {
     "data": {
      "image/png": "[encoded data removed]",
      "text/plain": [
       "<Figure size 432x288 with 1 Axes>"
      ]
     },
     "metadata": {
      "needs_background": "light"
     },
     "output_type": "display_data"
    }
   ],
   "source": [
    "y_pred_proba_gb = gb_model.predict_proba(X_valid)[::,1]\n",
    "fpr_gb, tpr_gb, _ = metrics.roc_curve(y_valid,  y_pred_proba_gb)\n",
    "auc_gb = metrics.roc_auc_score(y_valid, y_pred_proba_gb)\n",
    "plt.plot(fpr_gb,tpr_gb,label=\"Gradient Boosting, auc=\"+str(auc_gb))\n",
    "plt.legend(loc=4)\n",
    "plt.show()"
   ]
  },
  {
   "cell_type": "markdown",
   "id": "fd2d7f40",
   "metadata": {},
   "source": [
    "The gradient boosting model performs similar to the logit model (slight lower AUC though)"
   ]
  },
  {
   "cell_type": "code",
   "execution_count": 35,
   "id": "faec3152",
   "metadata": {},
   "outputs": [
    {
     "data": {
      "text/html": [
       "<div>\n",
       "<style scoped>\n",
       "    .dataframe tbody tr th:only-of-type {\n",
       "        vertical-align: middle;\n",
       "    }\n",
       "\n",
       "    .dataframe tbody tr th {\n",
       "        vertical-align: top;\n",
       "    }\n",
       "\n",
       "    .dataframe thead th {\n",
       "        text-align: right;\n",
       "    }\n",
       "</style>\n",
       "<table border=\"1\" class=\"dataframe\">\n",
       "  <thead>\n",
       "    <tr style=\"text-align: right;\">\n",
       "      <th></th>\n",
       "      <th>GP</th>\n",
       "      <th>MIN</th>\n",
       "      <th>PTS</th>\n",
       "      <th>FGM</th>\n",
       "      <th>FGA</th>\n",
       "      <th>FG%</th>\n",
       "      <th>3P Made</th>\n",
       "      <th>3PA</th>\n",
       "      <th>3P%</th>\n",
       "      <th>FTM</th>\n",
       "      <th>FTA</th>\n",
       "      <th>FT%</th>\n",
       "      <th>OREB</th>\n",
       "      <th>DREB</th>\n",
       "      <th>REB</th>\n",
       "      <th>AST</th>\n",
       "      <th>STL</th>\n",
       "      <th>BLK</th>\n",
       "      <th>TOV</th>\n",
       "    </tr>\n",
       "  </thead>\n",
       "  <tbody>\n",
       "    <tr>\n",
       "      <th>0</th>\n",
       "      <td>0.59</td>\n",
       "      <td>0.0</td>\n",
       "      <td>0.0</td>\n",
       "      <td>0.02</td>\n",
       "      <td>0.0</td>\n",
       "      <td>0.11</td>\n",
       "      <td>0.0</td>\n",
       "      <td>0.0</td>\n",
       "      <td>0.0</td>\n",
       "      <td>0.01</td>\n",
       "      <td>0.05</td>\n",
       "      <td>0.03</td>\n",
       "      <td>0.03</td>\n",
       "      <td>0.01</td>\n",
       "      <td>0.09</td>\n",
       "      <td>0.01</td>\n",
       "      <td>0.02</td>\n",
       "      <td>0.01</td>\n",
       "      <td>0.0</td>\n",
       "    </tr>\n",
       "  </tbody>\n",
       "</table>\n",
       "</div>"
      ],
      "text/plain": [
       "     GP  MIN  PTS   FGM  FGA   FG%  3P Made  3PA  3P%   FTM   FTA   FT%  OREB  \\\n",
       "0  0.59  0.0  0.0  0.02  0.0  0.11      0.0  0.0  0.0  0.01  0.05  0.03  0.03   \n",
       "\n",
       "   DREB   REB   AST   STL   BLK  TOV  \n",
       "0  0.01  0.09  0.01  0.02  0.01  0.0  "
      ]
     },
     "execution_count": 35,
     "metadata": {},
     "output_type": "execute_result"
    }
   ],
   "source": [
    "gb_model.feature_importances_\n",
    "pd.DataFrame(np.round(gb_model.feature_importances_,2), index = df_analysis.columns).T"
   ]
  },
  {
   "cell_type": "code",
   "execution_count": 36,
   "id": "aa56af37",
   "metadata": {},
   "outputs": [
    {
     "data": {
      "text/plain": [
       "<sklearn.metrics._plot.confusion_matrix.ConfusionMatrixDisplay at 0x2ba84d1bac0>"
      ]
     },
     "execution_count": 36,
     "metadata": {},
     "output_type": "execute_result"
    },
    {
     "data": {
      "image/png": "[encoded data removed]",
      "text/plain": [
       "<Figure size 432x288 with 2 Axes>"
      ]
     },
     "metadata": {
      "needs_background": "light"
     },
     "output_type": "display_data"
    }
   ],
   "source": [
    "y_gb_predict =gb_model.predict(X_valid)\n",
    "cm_gb= confusion_matrix(y_valid, y_gb_predict, labels=model_new_reduce.classes_)\n",
    "\n",
    "disp_gb = ConfusionMatrixDisplay(confusion_matrix=cm_gb, display_labels=gb_model.classes_)\n",
    "disp_gb.plot()"
   ]
  },
  {
   "cell_type": "markdown",
   "id": "8f105ef4",
   "metadata": {},
   "source": [
    "The feature importance stats also have a similar result to the logit model\n",
    "GP, FG%, and  rebound stats appear to be key features"
   ]
  },
  {
   "cell_type": "markdown",
   "id": "ca0d4c63",
   "metadata": {},
   "source": [
    "We will now re-fit gradient boost model with the highly correlated features removed"
   ]
  },
  {
   "cell_type": "code",
   "execution_count": 37,
   "id": "ebae302a",
   "metadata": {},
   "outputs": [
    {
     "data": {
      "image/png": "[encoded data removed]",
      "text/plain": [
       "<Figure size 432x288 with 1 Axes>"
      ]
     },
     "metadata": {
      "needs_background": "light"
     },
     "output_type": "display_data"
    }
   ],
   "source": [
    "#Train on undersampled balanced dataset\n",
    "gb_model_reduce = GradientBoostingClassifier(learning_rate=0.01).fit(balanced_X_reduce, balanced_Y_reduce)\n",
    "y_pred_proba_gbr = gb_model_reduce.predict_proba(X_valid_reduce)[::,1]\n",
    "fpr_gbr, tpr_gbr, _ = metrics.roc_curve(y_valid_reduce,  y_pred_proba_gbr)\n",
    "auc_gbr = metrics.roc_auc_score(y_valid_reduce, y_pred_proba_gbr)\n",
    "plt.plot(fpr_gbr,tpr_gbr,label=\"Gradient Boosting reduced, auc=\"+str(auc_gbr))\n",
    "plt.legend(loc=4)\n",
    "plt.show()\n"
   ]
  },
  {
   "cell_type": "code",
   "execution_count": 38,
   "id": "61e46a48",
   "metadata": {},
   "outputs": [
    {
     "data": {
      "text/plain": [
       "<AxesSubplot:>"
      ]
     },
     "execution_count": 38,
     "metadata": {},
     "output_type": "execute_result"
    },
    {
     "data": {
      "image/png": "[encoded data removed]",
      "text/plain": [
       "<Figure size 432x288 with 1 Axes>"
      ]
     },
     "metadata": {
      "needs_background": "light"
     },
     "output_type": "display_data"
    }
   ],
   "source": [
    "gb_model_reduce.feature_importances_\n",
    "gb_chart=pd.DataFrame(np.round(gb_model_reduce.feature_importances_,2), index = df_analysis_reduce.columns).T\n",
    "sns.barplot(data=gb_chart)"
   ]
  },
  {
   "cell_type": "markdown",
   "id": "38cd93b0",
   "metadata": {},
   "source": [
    "Removing correlated features improved AUC score but still slightly less than logit model\n",
    "\n",
    "The gradient boost model has similar results as the logit model with reduced features\n",
    "\n",
    "GP, FG%, and rebound stats are important features"
   ]
  },
  {
   "cell_type": "code",
   "execution_count": 39,
   "id": "d8753d02",
   "metadata": {},
   "outputs": [
    {
     "data": {
      "text/plain": [
       "<sklearn.metrics._plot.confusion_matrix.ConfusionMatrixDisplay at 0x2ba84ca6bb0>"
      ]
     },
     "execution_count": 39,
     "metadata": {},
     "output_type": "execute_result"
    },
    {
     "data": {
      "image/png": "[encoded data removed]",
      "text/plain": [
       "<Figure size 432x288 with 2 Axes>"
      ]
     },
     "metadata": {
      "needs_background": "light"
     },
     "output_type": "display_data"
    }
   ],
   "source": [
    "y_gbr_predict =gb_model_reduce.predict(X_valid_reduce)\n",
    "cm_gbr= confusion_matrix(y_valid, y_gbr_predict, labels=gb_model_reduce.classes_)\n",
    "\n",
    "disp_gbr = ConfusionMatrixDisplay(confusion_matrix=cm_gbr, display_labels=gb_model_reduce.classes_)\n",
    "disp_gbr.plot()"
   ]
  },
  {
   "cell_type": "markdown",
   "id": "346f970f",
   "metadata": {},
   "source": [
    "3. <b> XGB model </b>\n",
    "\n",
    "We are now going to try the XGB model"
   ]
  },
  {
   "cell_type": "code",
   "execution_count": 40,
   "id": "b47364dd",
   "metadata": {},
   "outputs": [
    {
     "name": "stdout",
     "output_type": "stream",
     "text": [
      "[18:18:20] WARNING: C:/Users/Administrator/workspace/xgboost-win64_release_1.4.0/src/learner.cc:1095: Starting in XGBoost 1.3.0, the default evaluation metric used with the objective 'binary:logistic' was changed from 'error' to 'logloss'. Explicitly set eval_metric if you'd like to restore the old behavior.\n"
     ]
    },
    {
     "data": {
      "text/plain": [
       "array([0, 0, 1, ..., 1, 0, 1])"
      ]
     },
     "execution_count": 40,
     "metadata": {},
     "output_type": "execute_result"
    }
   ],
   "source": [
    "#Train on balanced undersample model with all the features\n",
    "model_xgb=XGBClassifier(max_depth=3, eta=0.01, reg_lambda=0, use_label_encoder=False)\n",
    "model_xgb.fit(balanced_X_1, balanced_Y_1, verbose=False)\n",
    "model_xgb.predict(X_valid)"
   ]
  },
  {
   "cell_type": "code",
   "execution_count": 41,
   "id": "1dece3ec",
   "metadata": {},
   "outputs": [
    {
     "data": {
      "image/png": "[encoded data removed]",
      "text/plain": [
       "<Figure size 432x288 with 1 Axes>"
      ]
     },
     "metadata": {
      "needs_background": "light"
     },
     "output_type": "display_data"
    }
   ],
   "source": [
    "y_pred_proba_xgb = model_xgb.predict_proba(X_valid)[::,1]\n",
    "fpr_xgb, tpr_xgb, _ = metrics.roc_curve(y_valid,  y_pred_proba_xgb)\n",
    "auc_xgb = metrics.roc_auc_score(y_valid, y_pred_proba_xgb)\n",
    "plt.plot(fpr_xgb,tpr_xgb,label=\"XGB Model, auc=\"+str(auc_xgb))\n",
    "plt.legend(loc=4)\n",
    "plt.show()"
   ]
  },
  {
   "cell_type": "code",
   "execution_count": 42,
   "id": "b1dde56b",
   "metadata": {},
   "outputs": [
    {
     "data": {
      "text/html": [
       "<div>\n",
       "<style scoped>\n",
       "    .dataframe tbody tr th:only-of-type {\n",
       "        vertical-align: middle;\n",
       "    }\n",
       "\n",
       "    .dataframe tbody tr th {\n",
       "        vertical-align: top;\n",
       "    }\n",
       "\n",
       "    .dataframe thead th {\n",
       "        text-align: right;\n",
       "    }\n",
       "</style>\n",
       "<table border=\"1\" class=\"dataframe\">\n",
       "  <thead>\n",
       "    <tr style=\"text-align: right;\">\n",
       "      <th></th>\n",
       "      <th>GP</th>\n",
       "      <th>MIN</th>\n",
       "      <th>PTS</th>\n",
       "      <th>FGM</th>\n",
       "      <th>FGA</th>\n",
       "      <th>FG%</th>\n",
       "      <th>3P Made</th>\n",
       "      <th>3PA</th>\n",
       "      <th>3P%</th>\n",
       "      <th>FTM</th>\n",
       "      <th>FTA</th>\n",
       "      <th>FT%</th>\n",
       "      <th>OREB</th>\n",
       "      <th>DREB</th>\n",
       "      <th>REB</th>\n",
       "      <th>AST</th>\n",
       "      <th>STL</th>\n",
       "      <th>BLK</th>\n",
       "      <th>TOV</th>\n",
       "    </tr>\n",
       "  </thead>\n",
       "  <tbody>\n",
       "    <tr>\n",
       "      <th>0</th>\n",
       "      <td>0.18</td>\n",
       "      <td>0.04</td>\n",
       "      <td>0.03</td>\n",
       "      <td>0.05</td>\n",
       "      <td>0.04</td>\n",
       "      <td>0.05</td>\n",
       "      <td>0.0</td>\n",
       "      <td>0.01</td>\n",
       "      <td>0.02</td>\n",
       "      <td>0.03</td>\n",
       "      <td>0.07</td>\n",
       "      <td>0.04</td>\n",
       "      <td>0.05</td>\n",
       "      <td>0.16</td>\n",
       "      <td>0.06</td>\n",
       "      <td>0.03</td>\n",
       "      <td>0.03</td>\n",
       "      <td>0.05</td>\n",
       "      <td>0.05</td>\n",
       "    </tr>\n",
       "  </tbody>\n",
       "</table>\n",
       "</div>"
      ],
      "text/plain": [
       "     GP   MIN   PTS   FGM   FGA   FG%  3P Made   3PA   3P%   FTM   FTA   FT%  \\\n",
       "0  0.18  0.04  0.03  0.05  0.04  0.05      0.0  0.01  0.02  0.03  0.07  0.04   \n",
       "\n",
       "   OREB  DREB   REB   AST   STL   BLK   TOV  \n",
       "0  0.05  0.16  0.06  0.03  0.03  0.05  0.05  "
      ]
     },
     "execution_count": 42,
     "metadata": {},
     "output_type": "execute_result"
    }
   ],
   "source": [
    "model_xgb.feature_importances_\n",
    "pd.DataFrame(np.round(model_xgb.feature_importances_,2), index = df_analysis.columns).T\n"
   ]
  },
  {
   "cell_type": "code",
   "execution_count": 43,
   "id": "ebf5a4f1",
   "metadata": {},
   "outputs": [
    {
     "data": {
      "text/plain": [
       "<sklearn.metrics._plot.confusion_matrix.ConfusionMatrixDisplay at 0x2ba84c71c70>"
      ]
     },
     "execution_count": 43,
     "metadata": {},
     "output_type": "execute_result"
    },
    {
     "data": {
      "image/png": "[encoded data removed]",
      "text/plain": [
       "<Figure size 432x288 with 2 Axes>"
      ]
     },
     "metadata": {
      "needs_background": "light"
     },
     "output_type": "display_data"
    }
   ],
   "source": [
    "y_xgb_predict =model_xgb.predict(X_valid)\n",
    "cm_xgb= confusion_matrix(y_valid, y_xgb_predict, labels=model_xgb.classes_)\n",
    "\n",
    "disp_xgb = ConfusionMatrixDisplay(confusion_matrix=cm_xgb, display_labels=model_xgb.classes_)\n",
    "disp_xgb.plot()"
   ]
  },
  {
   "cell_type": "markdown",
   "id": "6ccf1d86",
   "metadata": {},
   "source": [
    "The XGB model performs slightly better than the GB model but slightly less than logit model \n",
    "\n",
    "Unlike Logit and GB models, it predicts GP and defensive rebound as important features (not FG%)"
   ]
  },
  {
   "cell_type": "markdown",
   "id": "760f9b54",
   "metadata": {},
   "source": [
    "We are now going to try the XGB model with the highly correlated values removed"
   ]
  },
  {
   "cell_type": "code",
   "execution_count": 44,
   "id": "f83f9c62",
   "metadata": {},
   "outputs": [
    {
     "name": "stdout",
     "output_type": "stream",
     "text": [
      "[18:18:21] WARNING: C:/Users/Administrator/workspace/xgboost-win64_release_1.4.0/src/learner.cc:1095: Starting in XGBoost 1.3.0, the default evaluation metric used with the objective 'binary:logistic' was changed from 'error' to 'logloss'. Explicitly set eval_metric if you'd like to restore the old behavior.\n"
     ]
    },
    {
     "data": {
      "text/plain": [
       "array([0, 0, 1, ..., 1, 0, 1])"
      ]
     },
     "execution_count": 44,
     "metadata": {},
     "output_type": "execute_result"
    }
   ],
   "source": [
    "#Try XGBModel reduced model with balanced undersampled dataset\n",
    "model_xgb_reduce=XGBClassifier(max_depth=3, eta=0.01, reg_lambda=0, use_label_encoder=False)\n",
    "model_xgb_reduce.fit(balanced_X_reduce, balanced_Y_reduce, verbose=False)\n",
    "model_xgb_reduce.predict(X_valid_reduce)"
   ]
  },
  {
   "cell_type": "code",
   "execution_count": 45,
   "id": "62f2c8fe",
   "metadata": {},
   "outputs": [
    {
     "data": {
      "image/png": "[encoded data removed]",
      "text/plain": [
       "<Figure size 432x288 with 1 Axes>"
      ]
     },
     "metadata": {
      "needs_background": "light"
     },
     "output_type": "display_data"
    }
   ],
   "source": [
    "y_pred_proba_xgbr = model_xgb_reduce.predict_proba(X_valid_reduce)[::,1]\n",
    "fpr_xgbr, tpr_xgbr, _ = metrics.roc_curve(y_valid_reduce,  y_pred_proba_xgbr)\n",
    "auc_xgbr = metrics.roc_auc_score(y_valid_reduce, y_pred_proba_xgbr)\n",
    "plt.plot(fpr_xgbr,tpr_xgbr,label=\"XGB model reduced, auc=\"+str(auc_xgbr))\n",
    "plt.legend(loc=4)\n",
    "plt.show()"
   ]
  },
  {
   "cell_type": "code",
   "execution_count": 46,
   "id": "e3e5e3ea",
   "metadata": {},
   "outputs": [
    {
     "data": {
      "text/plain": [
       "<AxesSubplot:>"
      ]
     },
     "execution_count": 46,
     "metadata": {},
     "output_type": "execute_result"
    },
    {
     "data": {
      "image/png": "[encoded data removed]",
      "text/plain": [
       "<Figure size 432x288 with 1 Axes>"
      ]
     },
     "metadata": {
      "needs_background": "light"
     },
     "output_type": "display_data"
    }
   ],
   "source": [
    "model_xgb_reduce.feature_importances_\n",
    "xgbr_data=pd.DataFrame(np.round(model_xgb_reduce.feature_importances_,2), index = df_analysis_reduce.columns).T\n",
    "sns.barplot(data=xgbr_data)\n"
   ]
  },
  {
   "cell_type": "code",
   "execution_count": 47,
   "id": "9527786d",
   "metadata": {},
   "outputs": [
    {
     "data": {
      "text/plain": [
       "<sklearn.metrics._plot.confusion_matrix.ConfusionMatrixDisplay at 0x2ba864efaf0>"
      ]
     },
     "execution_count": 47,
     "metadata": {},
     "output_type": "execute_result"
    },
    {
     "data": {
      "image/png": "[encoded data removed]",
      "text/plain": [
       "<Figure size 432x288 with 2 Axes>"
      ]
     },
     "metadata": {
      "needs_background": "light"
     },
     "output_type": "display_data"
    }
   ],
   "source": [
    "y_xgbr_predict =model_xgb_reduce.predict(X_valid_reduce)\n",
    "cm_xgbr= confusion_matrix(y_valid, y_xgbr_predict, labels=model_xgb_reduce.classes_)\n",
    "\n",
    "disp_xgbr = ConfusionMatrixDisplay(confusion_matrix=cm_xgbr, display_labels=model_xgb_reduce.classes_)\n",
    "disp_xgbr.plot()"
   ]
  },
  {
   "cell_type": "markdown",
   "id": "3aefc2c8",
   "metadata": {},
   "source": [
    "The xgb model performs slightly worse than the gb model and logit with correlated features removed\n",
    "\n",
    "Unlike gbmodel and logit model, the xgb model predicts defensive rebound to be a more important feature than %FG\n"
   ]
  },
  {
   "cell_type": "markdown",
   "id": "da5604de",
   "metadata": {},
   "source": [
    "<b> Summary </b>"
   ]
  },
  {
   "cell_type": "code",
   "execution_count": 48,
   "id": "c7f76f3b",
   "metadata": {},
   "outputs": [
    {
     "data": {
      "text/html": [
       "<div>\n",
       "<style scoped>\n",
       "    .dataframe tbody tr th:only-of-type {\n",
       "        vertical-align: middle;\n",
       "    }\n",
       "\n",
       "    .dataframe tbody tr th {\n",
       "        vertical-align: top;\n",
       "    }\n",
       "\n",
       "    .dataframe thead th {\n",
       "        text-align: right;\n",
       "    }\n",
       "</style>\n",
       "<table border=\"1\" class=\"dataframe\">\n",
       "  <thead>\n",
       "    <tr style=\"text-align: right;\">\n",
       "      <th></th>\n",
       "      <th>AUC</th>\n",
       "    </tr>\n",
       "  </thead>\n",
       "  <tbody>\n",
       "    <tr>\n",
       "      <th>Logit correlated features removed</th>\n",
       "      <td>0.705239</td>\n",
       "    </tr>\n",
       "    <tr>\n",
       "      <th>Gradient boost</th>\n",
       "      <td>0.693466</td>\n",
       "    </tr>\n",
       "    <tr>\n",
       "      <th>Gradient boost correlated values removed</th>\n",
       "      <td>0.699708</td>\n",
       "    </tr>\n",
       "    <tr>\n",
       "      <th>XGB</th>\n",
       "      <td>0.695245</td>\n",
       "    </tr>\n",
       "    <tr>\n",
       "      <th>XGB correlated features removed</th>\n",
       "      <td>0.699230</td>\n",
       "    </tr>\n",
       "  </tbody>\n",
       "</table>\n",
       "</div>"
      ],
      "text/plain": [
       "                                               AUC\n",
       "Logit correlated features removed         0.705239\n",
       "Gradient boost                            0.693466\n",
       "Gradient boost correlated values removed  0.699708\n",
       "XGB                                       0.695245\n",
       "XGB correlated features removed           0.699230"
      ]
     },
     "execution_count": 48,
     "metadata": {},
     "output_type": "execute_result"
    }
   ],
   "source": [
    "summary=pd.DataFrame(np.array([auc_reduce, auc_gb, auc_gbr, auc_xgb, auc_xgbr]), index=(\"Logit correlated features removed\", \"Gradient boost\", \"Gradient boost correlated values removed\",\"XGB\",\"XGB correlated features removed\"))\n",
    "summary.rename(columns={0:'AUC'}, inplace=True)\n",
    "summary"
   ]
  },
  {
   "cell_type": "markdown",
   "id": "4dcef39d",
   "metadata": {},
   "source": [
    "* Removing correlated features improved AUC metric for XGB and Gradient Boost models.\n",
    "however these models do not appear to be much different from logit model in terms of AUC metric peformance \n",
    "\n",
    "Logit has better interpretability than GB and XGB and can show the direction of a feature's influence\n"
   ]
  },
  {
   "cell_type": "markdown",
   "id": "24e43e70",
   "metadata": {},
   "source": [
    "<b> Next steps: </b>\n",
    "    \n",
    "* Tune hyperparemeters in Logit model\n",
    "- investigate 'class_weight' parameter\n",
    "\n",
    "* Investigate Random Forest and SVC models with inbuilt adjustment for imbalanced dataset\n"
   ]
  },
  {
   "cell_type": "code",
   "execution_count": 49,
   "id": "a64827bc",
   "metadata": {},
   "outputs": [],
   "source": [
    "#Preparing files for Kaggle Submissions\n",
    "#Grab the test data\n",
    "test_data=pd.read_csv('../data/raw/test.csv')\n",
    "test_data_model = test_data.drop(columns=[\"Id_old\",\"Id\"])"
   ]
  },
  {
   "cell_type": "code",
   "execution_count": 50,
   "id": "ce788079",
   "metadata": {},
   "outputs": [],
   "source": [
    "#prediction for models with correlated features removed\n",
    "test_data_model_red = test_data_model.drop(columns=[\"FGM\",\"FGA\",\"3P Made\",\"3PA\",\"FTM\",\"FTA\",\"REB\"])\n",
    "test_data_model_red_scaled=scaler.fit_transform(test_data_model_red)\n",
    "\n",
    "model_new_reduce_predprob = model_new_reduce.predict_proba(test_data_model_red_scaled)[:,1]\n",
    "submission_file_reduce = pd.DataFrame(model_new_reduce_predprob, index=test_data['Id'])\n",
    "\n",
    "submission_file_reduce.rename( columns={0 :'TARGET_5Yrs'}, inplace=True )\n",
    "submission_file_reduce.to_csv('../data/processed/lg_model_reduced.csv' )"
   ]
  },
  {
   "cell_type": "code",
   "execution_count": 51,
   "id": "2e33c915",
   "metadata": {},
   "outputs": [],
   "source": [
    "gb_model_reduce_predprob = gb_model_reduce.predict_proba(test_data_model_red_scaled)[:,1]\n",
    "submission_file_gbreduce = pd.DataFrame(gb_model_reduce_predprob, index=test_data['Id'])\n",
    "\n",
    "submission_file_gbreduce.rename( columns={0 :'TARGET_5Yrs'}, inplace=True )\n",
    "submission_file_gbreduce.to_csv('../data/processed/gb_model_reduced.csv' )\n"
   ]
  },
  {
   "cell_type": "code",
   "execution_count": 52,
   "id": "c76f22d4",
   "metadata": {},
   "outputs": [],
   "source": [
    "model_xgb_reduce_predprob = model_xgb_reduce.predict_proba(test_data_model_red_scaled)[:,1]\n",
    "submission_file_xgbreduce = pd.DataFrame(model_xgb_reduce_predprob, index=test_data['Id'])\n",
    "\n",
    "submission_file_xgbreduce.rename( columns={0 :'TARGET_5Yrs'}, inplace=True )\n",
    "submission_file_xgbreduce.to_csv('../data/processed/xgb_model_reduced.csv' )"
   ]
  },
  {
   "cell_type": "code",
   "execution_count": 53,
   "id": "4377fe93",
   "metadata": {},
   "outputs": [],
   "source": [
    "#Predictions for model with correlated features not removed\n",
    "test_data_model_scaled=scaler.fit_transform(test_data_model)\n",
    "gb_model_predprob = gb_model.predict_proba(test_data_model_scaled)[:,1]\n",
    "submission_file_gb = pd.DataFrame(gb_model_predprob, index=test_data['Id'])\n",
    "\n",
    "submission_file_gb.rename( columns={0 :'TARGET_5Yrs'}, inplace=True )\n",
    "submission_file_gb.to_csv('../data/processed/gb_model.csv' )"
   ]
  },
  {
   "cell_type": "code",
   "execution_count": 54,
   "id": "e7798398",
   "metadata": {},
   "outputs": [],
   "source": [
    "model_xgb_predprob = model_xgb.predict_proba(test_data_model_scaled)[:,1]\n",
    "submission_file_xgb = pd.DataFrame(model_xgb_predprob, index=test_data['Id'])\n",
    "\n",
    "submission_file_xgb.rename( columns={0 :'TARGET_5Yrs'}, inplace=True )\n",
    "submission_file_xgb.to_csv('../data/processed/xgb_model.csv' )"
   ]
  }
 ],
 "metadata": {
  "kernelspec": {
   "display_name": "Python 3",
   "language": "python",
   "name": "python3"
  },
  "language_info": {
   "codemirror_mode": {
    "name": "ipython",
    "version": 3
   },
   "file_extension": ".py",
   "mimetype": "text/x-python",
   "name": "python",
   "nbconvert_exporter": "python",
   "pygments_lexer": "ipython3",
   "version": "3.9.5"
  }
 },
 "nbformat": 4,
 "nbformat_minor": 5
}
