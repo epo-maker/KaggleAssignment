{
 "cells": [
  {
   "cell_type": "markdown",
   "id": "e76f29ad",
   "metadata": {},
   "source": [
    "<b><font size = \"5\"> Week 3 Assignment </b>\n",
    "\n",
    "This week we continue with modelling the longevity of NBA players.\n",
    "\n",
    "1. Hyper-parameter tuning of logit model\n",
    "2. SVC model"
   ]
  },
  {
   "cell_type": "code",
   "execution_count": 28,
   "id": "3e9a3ac2",
   "metadata": {},
   "outputs": [],
   "source": [
    "import pandas as pd\n",
    "import numpy as np\n",
    "import matplotlib.pyplot as plt\n",
    "import seaborn as sns\n",
    "from xgboost import XGBClassifier\n",
    "import warnings\n",
    "warnings.filterwarnings('ignore')\n",
    "from sklearn.metrics import confusion_matrix, ConfusionMatrixDisplay\n",
    "from hyperopt import Trials, STATUS_OK, tpe, hp, fmin\n",
    "from sklearn.linear_model import LogisticRegression\n",
    "from sklearn import metrics\n",
    "from sklearn.metrics import roc_curve, auc\n",
    "from joblib import dump\n",
    "from sklearn.svm import SVC\n",
    "from mlxtend.evaluate import feature_importance_permutation"
   ]
  },
  {
   "cell_type": "markdown",
   "id": "96c9c18d",
   "metadata": {},
   "source": [
    "<b> 1. Hyper-parameter tuning of logit model with correlated features removed </b>\n",
    "\n",
    "From last week's exercise, it was found that removing correlated features (FGM, FGA, 3P Made, 3PA, FTM, FTA, and REB)\n",
    "improved AUC. We will continue with this reduced dataset this week.\n",
    "\n",
    "We will also further expand on last week's logit model by tuning the hyperparameters of the model"
   ]
  },
  {
   "cell_type": "code",
   "execution_count": 29,
   "id": "f9ac94c8",
   "metadata": {},
   "outputs": [],
   "source": [
    "scaler = joblib.load('../models/scaler.joblib')\n",
    "train_test_split = joblib.load('../models/train_test_split.joblib')\n",
    "\n",
    "train_test_split\n",
    "df=pd.read_csv('../data/raw/train.csv')\n",
    "df_analysis=df.drop(columns=[\"Id_old\",\"Id\"])\n",
    "#Pop into a new variable the target column\n",
    "target = df_analysis.pop('TARGET_5Yrs')\n",
    "#Remove the correlated features and scale the variables\n",
    "df_analysis_reduce = df_analysis.drop(columns=[\"FGM\",\"FGA\",\"3P Made\",\"3PA\",\"FTM\",\"FTA\",\"REB\"])\n",
    "df_scaled_reduce = scaler.fit_transform(df_analysis_reduce)\n",
    "#Split into train and validation set\n",
    "X_train_reduce, X_valid_reduce, y_train_reduce, y_valid_reduce = train_test_split (df_scaled_reduce, target, test_size=0.2, random_state=8)\n"
   ]
  },
  {
   "cell_type": "markdown",
   "id": "e7796f87",
   "metadata": {},
   "source": [
    "The following section will try to find the best parameters for a logistic regression model with L1 regularisation\n",
    "\n",
    "Class weight is set as balanced, because last week's exercise showed that balancing the training set balances the accuracy\n",
    "for both >=5 years and <5 years."
   ]
  },
  {
   "cell_type": "code",
   "execution_count": 224,
   "id": "099360bf",
   "metadata": {},
   "outputs": [],
   "source": [
    "#Define space for logit parameters to be tuned\n",
    "\n",
    "#If L1 regularisation\n",
    "space_l1 = {\n",
    "   'C' : hp.uniform('C', 0, 100),\n",
    "'solver': hp.choice('solver',['liblinear','saga']),\n",
    "}\n"
   ]
  },
  {
   "cell_type": "code",
   "execution_count": 225,
   "id": "642de1be",
   "metadata": {},
   "outputs": [],
   "source": [
    "def objective_l1(space_l1):\n",
    "   logit_model = LogisticRegression(\n",
    "       penalty = 'l1',\n",
    "       C = space_l1['C'],\n",
    "       solver = space_l1['solver'],\n",
    "       class_weight = 'balanced'\n",
    "   )\n",
    "   logit_model.fit(X_train_reduce, y_train_reduce)\n",
    "   auc = metrics.roc_auc_score(y_valid_reduce, logit_model.predict_proba(X_valid_reduce)[::,1])\n",
    "   return{'loss': 1-auc, 'status': STATUS_OK }\n"
   ]
  },
  {
   "cell_type": "code",
   "execution_count": 226,
   "id": "9963ab3b",
   "metadata": {},
   "outputs": [
    {
     "name": "stdout",
     "output_type": "stream",
     "text": [
      "100%|██████████| 1000/1000 [01:40<00:00,  9.95trial/s, best loss: 0.29283415084991793]\n"
     ]
    },
    {
     "data": {
      "text/plain": [
       "{'C': 0.16561217478583887, 'solver': 1}"
      ]
     },
     "execution_count": 226,
     "metadata": {},
     "output_type": "execute_result"
    }
   ],
   "source": [
    "best_l1 = fmin(\n",
    "   fn=objective_l1,  \n",
    "   space=space_l1,      \n",
    "   algo=tpe.suggest,      \n",
    "   max_evals=1000\n",
    ")\n",
    "best_l1"
   ]
  },
  {
   "cell_type": "markdown",
   "id": "6eba3f76",
   "metadata": {},
   "source": [
    "Hyper-opts parameter tuning above shows that by setting C = 0.1656 and solver = saga, the auc can be optimised to 0.707\n",
    "with an L1 regularisation.\n",
    "\n",
    "The next section will attempt to find the optimal C and solver for an L2 regularisation"
   ]
  },
  {
   "cell_type": "code",
   "execution_count": 213,
   "id": "8a6689a5",
   "metadata": {},
   "outputs": [],
   "source": [
    "#if L2 regularisation\n",
    "space_l2 = {\n",
    "   'C' : hp.uniform('C', 0, 100),\n",
    "'solver': hp.choice('solver',['newton-cg','lbfgs','sag','saga'])\n",
    "}"
   ]
  },
  {
   "cell_type": "code",
   "execution_count": 214,
   "id": "2b41b5e4",
   "metadata": {},
   "outputs": [],
   "source": [
    "def objective_l2(space_l2):\n",
    "   logit_model = LogisticRegression(\n",
    "       penalty = 'l2',\n",
    "       C = space_l2['C'],\n",
    "       solver = space_l2['solver'],\n",
    "       class_weight = 'balanced'\n",
    "   )\n",
    "   logit_model.fit(X_train_reduce, y_train_reduce)\n",
    "   auc = metrics.roc_auc_score(y_valid_reduce, logit_model.predict_proba(X_valid_reduce)[::,1])\n",
    "   return{'loss': 1-auc, 'status': STATUS_OK }"
   ]
  },
  {
   "cell_type": "code",
   "execution_count": 215,
   "id": "1ab509e7",
   "metadata": {},
   "outputs": [
    {
     "name": "stdout",
     "output_type": "stream",
     "text": [
      "100%|██████████| 1000/1000 [01:27<00:00, 11.40trial/s, best loss: 0.29168392964238843]\n"
     ]
    },
    {
     "data": {
      "text/plain": [
       "{'C': 0.00480719434510272, 'solver': 1}"
      ]
     },
     "execution_count": 215,
     "metadata": {},
     "output_type": "execute_result"
    }
   ],
   "source": [
    "best_l2 = fmin(\n",
    "   fn=objective_l2,  \n",
    "   space=space_l2,      \n",
    "   algo=tpe.suggest,      \n",
    "   max_evals=1000\n",
    ")\n",
    "best_l2"
   ]
  },
  {
   "cell_type": "markdown",
   "id": "482b7ddc",
   "metadata": {},
   "source": [
    "Hyper-opts parameter tuning above shows that by setting C = 0.0048 and solver = lbfgs, the auc can be optimised to 0.708 with an L2 regularisation.\n",
    "\n",
    "The next section will attempt to find the best parameters for logit model with elasticnet regularisation"
   ]
  },
  {
   "cell_type": "code",
   "execution_count": null,
   "id": "650eaa46",
   "metadata": {},
   "outputs": [],
   "source": [
    "#if elasticnet regularisation \n",
    "\n",
    "space_elastic = {\n",
    "   'C' : hp.uniform('C', 0, 100),\n",
    "'solver': hp.choice('solver',['saga']),\n",
    "'l1_ratio': hp.uniform('l1_ratio', 0,1),\n",
    "}"
   ]
  },
  {
   "cell_type": "code",
   "execution_count": 230,
   "id": "5f20a207",
   "metadata": {},
   "outputs": [],
   "source": [
    "def objective_elastic(space_elastic):\n",
    "   logit_model = LogisticRegression(\n",
    "       penalty = 'elasticnet',\n",
    "       C = space_elastic['C'],\n",
    "       solver = space_elastic['solver'],\n",
    "       l1_ratio= space_elastic['l1_ratio'],\n",
    "       class_weight = 'balanced'\n",
    "   )\n",
    "   logit_model.fit(X_train_reduce, y_train_reduce)\n",
    "   auc = metrics.roc_auc_score(y_valid_reduce, logit_model.predict_proba(X_valid_reduce)[::,1])\n",
    "   return{'loss': 1-auc, 'status': STATUS_OK }"
   ]
  },
  {
   "cell_type": "code",
   "execution_count": 231,
   "id": "2aaccf12",
   "metadata": {},
   "outputs": [
    {
     "name": "stdout",
     "output_type": "stream",
     "text": [
      "100%|██████████| 1000/1000 [02:12<00:00,  7.53trial/s, best loss: 0.2919244041013934]\n"
     ]
    },
    {
     "data": {
      "text/plain": [
       "{'C': 0.010881177399609235, 'l1_ratio': 0.000465296357519851, 'solver': 0}"
      ]
     },
     "execution_count": 231,
     "metadata": {},
     "output_type": "execute_result"
    }
   ],
   "source": [
    "best_elastic = fmin(\n",
    "   fn=objective_elastic,  \n",
    "   space=space_elastic,      \n",
    "   algo=tpe.suggest,      \n",
    "   max_evals=1000\n",
    ")\n",
    "best_elastic"
   ]
  },
  {
   "cell_type": "markdown",
   "id": "dabcea3f",
   "metadata": {},
   "source": [
    "Hyperopts recommends that the elasticnet model has C=0.0108 and l1_ratio = 0.0004.\n",
    "This produces an AUC of also 0.708. Note that the L1 ratio is very close to 0, so it appears the L2 model is optimal \n",
    "for our case.\n",
    "\n",
    "Below fits the best L2 model"
   ]
  },
  {
   "cell_type": "code",
   "execution_count": 292,
   "id": "bf1ed1d6",
   "metadata": {},
   "outputs": [
    {
     "data": {
      "text/plain": [
       "<AxesSubplot:>"
      ]
     },
     "execution_count": 292,
     "metadata": {},
     "output_type": "execute_result"
    },
    {
     "data": {
      "image/png": "[encoded data removed]",
      "text/plain": [
       "<Figure size 432x288 with 1 Axes>"
      ]
     },
     "metadata": {
      "needs_background": "light"
     },
     "output_type": "display_data"
    }
   ],
   "source": [
    "#L2 coefficients\n",
    "model_best_l2 = LogisticRegression(\n",
    "       penalty = 'l2',\n",
    "       C = 0.00480719434510272,\n",
    "       solver = 'lbfgs',\n",
    "       class_weight = 'balanced')\n",
    "\n",
    "model_best_l2.fit(X_train_reduce, y_train_reduce)\n",
    "#dump(model_best_l2, '../models/model_best_l2.joblib')\n",
    "#dump(best_l2, '../models/best_l2.joblib')\n",
    "\n",
    "np.round(model_best_l2.coef_,1)\n",
    "model_best_l2_coef = pd.DataFrame(np.round(model_best_l2.coef_,1), columns=df_analysis_reduce.columns)\n",
    "sns.barplot(data=model_best_l2_coef)"
   ]
  },
  {
   "cell_type": "markdown",
   "id": "7971e6bf",
   "metadata": {},
   "source": [
    "The best model further reduces the features to only 6.\n",
    "\n",
    "It shows that games played is the most important feature in predicting rookie longevity. \n",
    "FG% and offensive rebound appear to be the next important features, with FT%, ST, and BLK making minor contributions"
   ]
  },
  {
   "cell_type": "code",
   "execution_count": 217,
   "id": "449e5ea3",
   "metadata": {},
   "outputs": [
    {
     "data": {
      "text/plain": [
       "<sklearn.metrics._plot.confusion_matrix.ConfusionMatrixDisplay at 0x2b08710c2e0>"
      ]
     },
     "execution_count": 217,
     "metadata": {},
     "output_type": "execute_result"
    },
    {
     "data": {
      "image/png": "[encoded data removed]",
      "text/plain": [
       "<Figure size 432x288 with 2 Axes>"
      ]
     },
     "metadata": {
      "needs_background": "light"
     },
     "output_type": "display_data"
    }
   ],
   "source": [
    "y_bestlogit =model_best_l2.predict(X_valid_reduce)\n",
    "cm_bestlogit= confusion_matrix(y_valid_reduce, y_bestlogit, labels=model_best_l2.classes_)\n",
    "\n",
    "dis_bestlogit= ConfusionMatrixDisplay(confusion_matrix=cm_bestlogit, display_labels=model_best_l2.classes_)\n",
    "dis_bestlogit.plot()"
   ]
  },
  {
   "cell_type": "markdown",
   "id": "66214988",
   "metadata": {},
   "source": [
    "The logit model has an accuracy rate of 62-67% for predicting rookies who make it >=5 years and <5 years."
   ]
  },
  {
   "cell_type": "markdown",
   "id": "bd63043c",
   "metadata": {},
   "source": [
    "<b> 2. Support Vector Classifier </b>\n",
    "\n",
    "We are now going to see if we can improve the logit model with a support vector classifier model.\n",
    "\n",
    "We are using a linear kernel as logit model suggests there might be a linear trend."
   ]
  },
  {
   "cell_type": "code",
   "execution_count": 286,
   "id": "a87e9d77",
   "metadata": {},
   "outputs": [
    {
     "data": {
      "text/plain": [
       "SVC(class_weight='balanced', kernel='linear', probability=1)"
      ]
     },
     "execution_count": 286,
     "metadata": {},
     "output_type": "execute_result"
    }
   ],
   "source": [
    "model_svc=SVC(class_weight='balanced',kernel='linear', probability = 1)\n",
    "model_svc.fit(X_train_reduce, y_train_reduce)"
   ]
  },
  {
   "cell_type": "code",
   "execution_count": 287,
   "id": "4afef0b4",
   "metadata": {},
   "outputs": [
    {
     "data": {
      "image/png": "[encoded data removed]",
      "text/plain": [
       "<Figure size 432x288 with 1 Axes>"
      ]
     },
     "metadata": {
      "needs_background": "light"
     },
     "output_type": "display_data"
    }
   ],
   "source": [
    "y_pred_proba_svc = model_svc.predict_proba(X_valid_reduce)[::,1]\n",
    "fpr_, tpr_, _ = metrics.roc_curve(y_valid_reduce,  y_pred_proba_svc)\n",
    "auc_svc = metrics.roc_auc_score(y_valid_reduce, y_pred_proba_svc)\n",
    "plt.plot(fpr_,tpr_,label=\"SVC, auc=\"+str(auc_svc))\n",
    "plt.legend(loc=4)\n",
    "plt.show()"
   ]
  },
  {
   "cell_type": "markdown",
   "id": "911fc1fe",
   "metadata": {},
   "source": [
    "The AUC metric is similar to the logit model. We'll see if we can improve it with hyper parameter tuning"
   ]
  },
  {
   "cell_type": "code",
   "execution_count": 288,
   "id": "577a0ea7",
   "metadata": {},
   "outputs": [],
   "source": [
    "space_svc = {\n",
    "   'C' : hp.uniform('C', 0, 100)\n",
    "}"
   ]
  },
  {
   "cell_type": "code",
   "execution_count": 289,
   "id": "27c3c62d",
   "metadata": {},
   "outputs": [],
   "source": [
    "def objective_svc(space_svc):\n",
    "   svc_model = SVC(\n",
    "       C = space_svc['C'],\n",
    "       kernel = 'linear',\n",
    "       class_weight = 'balanced',\n",
    "       probability = 1\n",
    "   )\n",
    "   svc_model.fit(X_train_reduce, y_train_reduce)\n",
    "   auc = metrics.roc_auc_score(y_valid_reduce,svc_model.predict_proba(X_valid_reduce)[::,1])\n",
    "   return{'loss': 1-auc, 'status': STATUS_OK }"
   ]
  },
  {
   "cell_type": "code",
   "execution_count": 294,
   "id": "faae80a4",
   "metadata": {},
   "outputs": [
    {
     "name": "stdout",
     "output_type": "stream",
     "text": [
      "100%|██████████| 5/5 [17:23<00:00, 208.76s/trial, best loss: 0.2922778725833042] \n"
     ]
    },
    {
     "data": {
      "text/plain": [
       "{'C': 85.50156716403585}"
      ]
     },
     "execution_count": 294,
     "metadata": {},
     "output_type": "execute_result"
    }
   ],
   "source": [
    "best_svc = fmin(\n",
    "   fn=objective_svc,  \n",
    "   space=space_svc,      \n",
    "   algo=tpe.suggest,      \n",
    "   max_evals=5\n",
    ")\n",
    "best_svc"
   ]
  },
  {
   "cell_type": "markdown",
   "id": "f7ce19f4",
   "metadata": {},
   "source": [
    "The hyper parameter tuning takes a long time to run and only improves the AUC slightly."
   ]
  },
  {
   "cell_type": "code",
   "execution_count": 298,
   "id": "bdc31bf8",
   "metadata": {},
   "outputs": [
    {
     "data": {
      "text/plain": [
       "SVC(C=85.50156716403585, class_weight='balanced', kernel='linear',\n",
       "    probability=1)"
      ]
     },
     "execution_count": 298,
     "metadata": {},
     "output_type": "execute_result"
    }
   ],
   "source": [
    "model_best_svc = SVC(\n",
    "       C = 85.50156716403585,\n",
    "       kernel = 'linear',\n",
    "       class_weight = 'balanced',\n",
    "       probability = 1\n",
    "   )\n",
    "model_best_svc.fit(X_train_reduce, y_train_reduce)"
   ]
  },
  {
   "cell_type": "code",
   "execution_count": 300,
   "id": "84bf0ae9",
   "metadata": {},
   "outputs": [
    {
     "data": {
      "text/plain": [
       "<sklearn.metrics._plot.confusion_matrix.ConfusionMatrixDisplay at 0x2b0987f97c0>"
      ]
     },
     "execution_count": 300,
     "metadata": {},
     "output_type": "execute_result"
    },
    {
     "data": {
      "image/png": "[encoded data removed]",
      "text/plain": [
       "<Figure size 432x288 with 2 Axes>"
      ]
     },
     "metadata": {
      "needs_background": "light"
     },
     "output_type": "display_data"
    }
   ],
   "source": [
    "y_bestsvc =model_best_svc.predict(X_valid_reduce)\n",
    "cm_svc= confusion_matrix(y_valid_reduce, y_bestsvc, labels=model_best_svc.classes_)\n",
    "\n",
    "dis_svc= ConfusionMatrixDisplay(confusion_matrix=cm_svc, display_labels=model_best_svc.classes_)\n",
    "dis_svc.plot()"
   ]
  },
  {
   "cell_type": "markdown",
   "id": "987f0edc",
   "metadata": {},
   "source": [
    "The model produces a result that is similar to the logit model"
   ]
  },
  {
   "cell_type": "code",
   "execution_count": 325,
   "id": "e6611e34",
   "metadata": {},
   "outputs": [],
   "source": [
    "imp_vals, _ = feature_importance_permutation(\n",
    "    predict_method=model_best_svc.predict, \n",
    "    X=X_valid_reduce,\n",
    "    y=y_valid_reduce,\n",
    "    metric='accuracy',\n",
    "    num_rounds=10,\n",
    "    seed=1)\n"
   ]
  },
  {
   "cell_type": "code",
   "execution_count": 326,
   "id": "999366ec",
   "metadata": {},
   "outputs": [
    {
     "data": {
      "text/plain": [
       "<AxesSubplot:>"
      ]
     },
     "execution_count": 326,
     "metadata": {},
     "output_type": "execute_result"
    },
    {
     "data": {
      "image/png": "[encoded data removed]",
      "text/plain": [
       "<Figure size 432x288 with 1 Axes>"
      ]
     },
     "metadata": {
      "needs_background": "light"
     },
     "output_type": "display_data"
    }
   ],
   "source": [
    "svc_importance = pd.DataFrame(np.round(imp_vals,4), index=df_analysis_reduce.columns).T\n",
    "sns.barplot(data=svc_importance)"
   ]
  },
  {
   "cell_type": "markdown",
   "id": "12ad0d51",
   "metadata": {},
   "source": [
    "The SVC model indicates that games played is the most important predictor of a rookie's outcome. \n",
    "Unlike the logit model, it puts more weight on the influence of defensive rebound stats.\n",
    "\n",
    "<b> Summary </b>\n",
    "\n",
    "Optimising the hyper-parameters of the logistic regression model lead to a simpler model with improved AUC metric\n",
    "and accuracy above 60% for both classes.\n",
    "\n",
    "An alternative support vector classifier model was fitted to see if the optimised logistic regression model\n",
    "could be improved upon. However, the SVC model produced similar results to the logistic regression model with slightly less\n",
    "AUC metric. The model is more resource intensive than the logistic regression model (takes about 2 mins to run).\n",
    "\n",
    "For its simplicity, ease of interpretability and reproducibility, I recommend the logistic regression model to be the\n",
    "optimal model for predicting the NBA careers prospects of rookies in the dataset\n"
   ]
  },
  {
   "cell_type": "code",
   "execution_count": 327,
   "id": "f9ee173d",
   "metadata": {},
   "outputs": [],
   "source": [
    "#Preparing files for Kaggle Submissions\n",
    "#Grab the test data\n",
    "test_data=pd.read_csv('../data/raw/test.csv')\n",
    "test_data_model = test_data.drop(columns=[\"Id_old\",\"Id\"])"
   ]
  },
  {
   "cell_type": "code",
   "execution_count": 328,
   "id": "fe135813",
   "metadata": {},
   "outputs": [],
   "source": [
    "test_data_model_red = test_data_model.drop(columns=[\"FGM\",\"FGA\",\"3P Made\",\"3PA\",\"FTM\",\"FTA\",\"REB\"])\n",
    "test_data_model_red_scaled=scaler.fit_transform(test_data_model_red)"
   ]
  },
  {
   "cell_type": "code",
   "execution_count": 331,
   "id": "2e9d1958",
   "metadata": {},
   "outputs": [],
   "source": [
    "model_best_logit_predprob = model_best_l2.predict_proba(test_data_model_red_scaled)[:,1]\n",
    "submission_file_bestlogit = pd.DataFrame(model_best_logit_predprob, index=test_data['Id'])\n",
    "\n",
    "submission_file_bestlogit.rename( columns={0 :'TARGET_5Yrs'}, inplace=True )\n",
    "submission_file_bestlogit.to_csv('../data/processed/best_logit.csv' )"
   ]
  }
 ],
 "metadata": {
  "kernelspec": {
   "display_name": "Python 3",
   "language": "python",
   "name": "python3"
  },
  "language_info": {
   "codemirror_mode": {
    "name": "ipython",
    "version": 3
   },
   "file_extension": ".py",
   "mimetype": "text/x-python",
   "name": "python",
   "nbconvert_exporter": "python",
   "pygments_lexer": "ipython3",
   "version": "3.9.5"
  }
 },
 "nbformat": 4,
 "nbformat_minor": 5
}
