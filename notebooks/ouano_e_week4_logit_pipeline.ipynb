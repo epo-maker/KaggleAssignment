{
 "cells": [
  {
   "cell_type": "markdown",
   "id": "f2abf268",
   "metadata": {},
   "source": [
    "<b><font size = \"5\"> Week 4 Assignment </b>\n",
    "\n",
    "This code puts into production the logit model from Week 3"
   ]
  },
  {
   "cell_type": "code",
   "execution_count": 2,
   "id": "2663e9c7",
   "metadata": {},
   "outputs": [],
   "source": [
    "import pandas as pd\n",
    "import numpy as np\n",
    "import matplotlib.pyplot as plt\n",
    "import seaborn as sns\n",
    "import warnings\n",
    "warnings.filterwarnings('ignore')\n",
    "import joblib as joblib\n",
    "import lime.lime_tabular as lime_tabular\n",
    "\n",
    "\n",
    "from sklearn.linear_model import LogisticRegression\n",
    "from sklearn.preprocessing import StandardScaler\n",
    "from joblib import dump\n",
    "\n",
    "from sklearn.pipeline import Pipeline\n",
    "from sklearn.compose import ColumnTransformer\n",
    "\n",
    "import model"
   ]
  },
  {
   "cell_type": "markdown",
   "id": "0838cb4b",
   "metadata": {},
   "source": [
    "create a pipeline for feature selection, data transformation and model fitting\n"
   ]
  },
  {
   "cell_type": "code",
   "execution_count": 14,
   "id": "efe4b6b8",
   "metadata": {},
   "outputs": [],
   "source": [
    "test_data= pd.read_csv('../data/raw/test.csv')\n",
    "\n",
    "train_data = pd.read_csv('../data/raw/train.csv')\n",
    "df_analysis= train_data.drop(columns=[\"Id_old\",\"Id\"])\n",
    "target = df_analysis.pop('TARGET_5Yrs')\n",
    "train_test_split = joblib.load('../models/train_test_split.joblib')\n",
    "X_train, X_valid, y_train, y_valid = train_test_split (df_analysis, target, test_size=0.2, random_state=8)\n",
    "drop_columns = ColumnTransformer(remainder = 'passthrough',\n",
    "                                 transformers=[('drop_columns', 'drop', ['FGM','FGA','3P Made','3PA','FTM','FTA','REB'])])\n",
    "model_fit = Pipeline(steps=[('drop_columns', drop_columns),  ('scale_variables',StandardScaler()), \n",
    "                            ('best_logit', LogisticRegression(penalty = 'l2',\n",
    "                                                              C = 0.00480719434510272,\n",
    "                                                              solver = 'lbfgs',\n",
    "                                                              class_weight = 'balanced'))])\n",
    "fitted_log = model_fit.fit(X_train,y_train)\n",
    "\n",
    "explainer = lime_tabular.LimeTabularExplainer(np.array(X_train), \n",
    "                                 mode='classification', \n",
    "                                  feature_names=X_train.columns,\n",
    "                                 class_names=[\"Less than 5Yrs\", \"More than 5 Yrs\"])"
   ]
  },
  {
   "cell_type": "markdown",
   "id": "1597d932",
   "metadata": {},
   "source": [
    "Create a class of functions that will allow users to access prediction of the model:\n",
    "    <p> Functions include:\n",
    "       <p> 1. Listing all predictions against the player ids\n",
    "       <p> 2. Visualise predictions against each feature\n",
    "       <p> 3. Explain prediction for a specific record"
   ]
  },
  {
   "cell_type": "code",
   "execution_count": 17,
   "id": "029bf0a9",
   "metadata": {},
   "outputs": [],
   "source": [
    "class NBACareerPredict:\n",
    "    def __init__ (self, test_data):\n",
    "        self.test_data_transform = test_data.drop(columns=[\"Id_old\",\"Id\"])\n",
    "        self.prediction = pd.DataFrame (test_data[\"Id\"])\n",
    "        self.prediction[\"Prediction\"] = model_fit.predict(self.test_data_transform)\n",
    "        self.chart_data = test_data.drop(columns=[\"Id_old\",\"Id\",\"FGM\",\"FGA\",\"3P Made\",\"3PA\",\"FTM\",\"FTA\",\"REB\"])\n",
    "        self.chart_data['TARGET_5YRS'] = model_fit.predict(self.test_data_transform)\n",
    "        self.chart_data['Prediction'] = np.nan\n",
    "        self.chart_data['Prediction'][self.chart_data['TARGET_5YRS'] == 0] = 'Less than 5 Yrs'\n",
    "        self.chart_data['Prediction'][self.chart_data['TARGET_5YRS'] == 1] = 'More than 5 Yrs'\n",
    "        \n",
    "        \n",
    "    def list_predictions (self):\n",
    "        return self.prediction\n",
    "    \n",
    "    def visualise_features (self):\n",
    "        for i, col in enumerate(self.chart_data.columns):\n",
    "            plt.figure(i)\n",
    "            chart = sns.histplot(data=self.chart_data, x=self.chart_data[col], hue = 'Prediction')\n",
    "        return chart\n",
    "    \n",
    "    def explain_prediction (self, i):\n",
    "        exp = explainer.explain_instance(\n",
    "            self.test_data_transform[test_data[\"Id\"]==i].iloc[0],\n",
    "            model_fit.predict_proba,top_labels=1,num_features=10)\n",
    "        return exp.show_in_notebook(show_table=True)\n",
    "\n"
   ]
  },
  {
   "cell_type": "code",
   "execution_count": 20,
   "id": "e5485383",
   "metadata": {},
   "outputs": [],
   "source": [
    "RookiePredict = NBACareerPredict(test_data)"
   ]
  },
  {
   "cell_type": "code",
   "execution_count": null,
   "id": "94b52be5",
   "metadata": {},
   "outputs": [],
   "source": []
  }
 ],
 "metadata": {
  "kernelspec": {
   "display_name": "Python 3",
   "language": "python",
   "name": "python3"
  },
  "language_info": {
   "codemirror_mode": {
    "name": "ipython",
    "version": 3
   },
   "file_extension": ".py",
   "mimetype": "text/x-python",
   "name": "python",
   "nbconvert_exporter": "python",
   "pygments_lexer": "ipython3",
   "version": "3.9.5"
  }
 },
 "nbformat": 4,
 "nbformat_minor": 5
}
